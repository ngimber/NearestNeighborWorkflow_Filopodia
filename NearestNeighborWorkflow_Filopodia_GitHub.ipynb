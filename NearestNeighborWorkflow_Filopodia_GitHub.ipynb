{
 "cells": [
  {
   "cell_type": "markdown",
   "metadata": {},
   "source": [
    "# Intro"
   ]
  },
  {
   "attachments": {},
   "cell_type": "markdown",
   "metadata": {},
   "source": [
    "#### This Jupyter Notebook was used to calculate Nearest Neighbor Distances from hand-annotated Filopodia lists to PRG2 spots within the same neuron and controls, by randomly placing thespots within a neuronal binary mask. Prerequisites are: \n",
    "#### - List of Filopodia Coordinates (tab delimited columns: Name\tX\tY\tChannel\tFrame), coordinates as µm\n",
    "#### - List of PRG2 spots (tab delimited columns: Name\tX\tY\tFrame)\n",
    "#### - binary masks (tif format, black background) "
   ]
  },
  {
   "cell_type": "markdown",
   "metadata": {},
   "source": [
    "## import functions"
   ]
  },
  {
   "cell_type": "code",
   "execution_count": 1,
   "metadata": {},
   "outputs": [],
   "source": [
    "import pandas as pd\n",
    "import numpy as np\n",
    "import matplotlib.pyplot as plt\n",
    "from tifffile import imsave\n",
    "import tifffile as tiff\n",
    "from scipy import signal\n",
    "from scipy import misc\n",
    "import scipy.fftpack\n",
    "from scipy import stats\n",
    "from scipy import signal\n",
    "import os\n",
    "from scipy.spatial import distance_matrix\n",
    "import random"
   ]
  },
  {
   "cell_type": "markdown",
   "metadata": {},
   "source": [
    "## Define Helper Functions"
   ]
  },
  {
   "cell_type": "markdown",
   "metadata": {},
   "source": [
    "#### define bining function"
   ]
  },
  {
   "cell_type": "code",
   "execution_count": 2,
   "metadata": {},
   "outputs": [],
   "source": [
    "from scipy.stats import binned_statistic\n",
    "\n",
    "def binData(inData,firstcol,lastcol,minbin,maxbin,nbins):\n",
    "    myArray=inData.as_matrix()\n",
    "    \n",
    "    numrows = len(myArray)\n",
    "    numcols = len(myArray[0]) #[0] for cols. otherwise rows\n",
    "    if (lastcol==\"max\"):\n",
    "        lastcol=numcols\n",
    "\n",
    "    for j in range(firstcol, lastcol):\n",
    "       \n",
    "\n",
    "        data = myArray[:,j]\n",
    "        bin_means = binned_statistic(data, data, statistic=\"count\", bins=nbins, range=(minbin, maxbin))[0]\n",
    "        bin_edges= binned_statistic(data, data, statistic='count', bins=nbins, range=(minbin, maxbin))[1]\n",
    "        binnumber= binned_statistic(data, data, statistic='count', bins=nbins, range=(minbin, maxbin))[2]\n",
    "        bin_middle=bin_edges[0:len(bin_edges)-1]+((maxbin-minbin)/nbins/2)\n",
    "\n",
    "        bin_means = np.nan_to_num(bin_means)\n",
    "        bin_means=bin_means.tolist()       \n",
    "        \n",
    "        if (j==0):\n",
    "            allbins = np.vstack((bin_middle, bin_means))\n",
    "        else:\n",
    "            allbins = np.vstack((allbins, bin_means))\n",
    "        \n",
    "    allbins=allbins.T\n",
    "    \n",
    "\n",
    "    \n",
    "    matrix=pd.DataFrame(allbins).set_index(0)\n",
    "    matrix.columns=inData.columns[firstcol:lastcol]\n",
    "   \n",
    "\n",
    "    \n",
    "\n",
    "    return(matrix)"
   ]
  },
  {
   "cell_type": "markdown",
   "metadata": {},
   "source": [
    "#### define normalization function"
   ]
  },
  {
   "cell_type": "code",
   "execution_count": 3,
   "metadata": {},
   "outputs": [],
   "source": [
    "def normalize(raw):\n",
    "\n",
    "    normalized=(raw/raw.mean())#normalize to sum\n",
    "    normalized=pd.DataFrame(normalized).fillna(0)\n",
    "    return normalized"
   ]
  },
  {
   "cell_type": "markdown",
   "metadata": {},
   "source": [
    "# Read Filopodia and PRG2 Spot List ant output path"
   ]
  },
  {
   "cell_type": "code",
   "execution_count": 4,
   "metadata": {},
   "outputs": [],
   "source": [
    "#filopodia list\n",
    "filopodialist=pd.read_excel(r\"enter filepath\\.xlsx\", sheet_name=0)\n",
    "\n",
    "#PRG2 spot list\n",
    "allInfo=pd.read_excel(r\"enter filepath\\.xlsx\", sheet_name=0)\n",
    "allInfo.columns=(['Filename','POSITION_X','POSITION_Y',\"FRAME\",\"DELAY\"])\n",
    "\n",
    "#output path\n",
    "path=r\"enter filepath\"#output path"
   ]
  },
  {
   "cell_type": "markdown",
   "metadata": {},
   "source": [
    "# Calculate NN"
   ]
  },
  {
   "cell_type": "code",
   "execution_count": null,
   "metadata": {},
   "outputs": [],
   "source": [
    "pixelsize=0.1377745#in µm\n",
    "filopodiaNames=filopodialist[\"Name\"]\n",
    "allNNs=[]\n",
    "NNs=[]  \n",
    "    \n",
    "for i in range (0,len(filopodiaNames)):\n",
    "\n",
    "    filop=(filopodiaNames.values.tolist()[i])#pick filopodium from the list \n",
    "    filopLocs=filopodialist.iloc[i]#name of filopodium\n",
    "    prg2locs=allInfo[allInfo[\"Filename\"]==filop]#list of prg2 spots from same movie, fraem will be picked below\n",
    "    acuteframe=filopLocs[\"Frame\"]\n",
    "\n",
    "    subject=filopLocs[[\"X\",\"Y\"]]/pixelsize #coordinates for acute filopodium\n",
    "    reference=prg2locs[prg2locs['FRAME']==acuteframe][['POSITION_X','POSITION_Y']]/pixelsize #coordinates for acute PRG2 spots in frame of filopodium occurnce\n",
    "\n",
    "    if(reference.shape[0]==0):\n",
    "        NN=np.NaN\n",
    "    else:\n",
    "        distanceMatrix=distance_matrix(pd.DataFrame(subject).T,reference)[0]#calculate distance matric subject / reference\n",
    "        NN=np.min(distanceMatrix,axis=0)#calculate NN from distance matrix\n",
    "              \n",
    "    NNs=NNs+[NN]\n",
    "        \n",
    "allNNs=allNNs+[NNs]\n",
    "allNNs=pd.DataFrame(allNNs).T\n",
    "allNNs.index=filopodiaNames\n",
    "realData=allNNs\n",
    "\n",
    "#plot figure\n",
    "fig=plt.figure(figsize=(9,7),dpi=300)\n",
    "pd.DataFrame(realData.values.flatten()*pixelsize).hist(bins=20,range=[0,3])\n",
    "plt.xlabel(\"NN Distance [µm]\")\n",
    "plt.ylabel(\"Normalized Counts [a.u.]\")\n",
    "plt.title(\"\")\n",
    "plt.savefig(path+\"NN_\"+\"_spots.png\")"
   ]
  },
  {
   "cell_type": "markdown",
   "metadata": {},
   "source": [
    "#### export NN data to \".csv\""
   ]
  },
  {
   "cell_type": "code",
   "execution_count": 10,
   "metadata": {},
   "outputs": [],
   "source": [
    "realData.to_csv(path+\"enter filename .csv\")"
   ]
  },
  {
   "cell_type": "markdown",
   "metadata": {},
   "source": [
    "## Randomize PRG2"
   ]
  },
  {
   "cell_type": "markdown",
   "metadata": {},
   "source": [
    "#### N PRG2 spots, will be placed with in the neuron binary mask. N resembles the number of real PRG2 spots from the frame of Filopodium occurance."
   ]
  },
  {
   "cell_type": "markdown",
   "metadata": {},
   "source": [
    "#### randomization function and test"
   ]
  },
  {
   "cell_type": "code",
   "execution_count": 11,
   "metadata": {},
   "outputs": [
    {
     "data": {
      "image/png": "[encoded data removed]",
      "text/plain": [
       "<matplotlib.figure.Figure at 0x1a2b6160>"
      ]
     },
     "metadata": {},
     "output_type": "display_data"
    }
   ],
   "source": [
    "#function to randomize localizations from a pd Datafreme (structure:X/Y/Frame) according to binary mask (only white permitted)\n",
    "\n",
    "def randomize(locs,mask,frame):#chose frame number or \"all\" to process all rames, frames start with 1\n",
    "    randomX=[]\n",
    "    randomY=[]\n",
    "\n",
    "    currentLocs=locs[locs[\"FRAME\"]==frame]#only localizations from one frame\n",
    "    currentMask=mask[frame-1]#only mask from one frame\n",
    "    for n in range(0, len(currentLocs)):#place localization in the mask N times\n",
    "\n",
    "        hit=False\n",
    "        while (hit==False):#if localization was placed outside the mask, try again\n",
    "            thisX=random.randint(0,mask.shape[2]-1)\n",
    "            thisY=random.randint(0,mask.shape[1]-1)\n",
    "            if(currentMask[thisY][thisX]>0):\n",
    "                hit=True\n",
    "\n",
    "        randomX=randomX+[thisX]\n",
    "        randomY=randomY+[thisY]   \n",
    "\n",
    "    return [randomX,randomY]\n",
    "\n",
    "\n",
    "#example randomizes localizations within the mask\n",
    "mask=tiff.imread(r\"filepath\\.tif\")\n",
    "locs=prg2locs\n",
    "frame=35\n",
    "tmp=randomize(locs,mask,frame)\n",
    "pd.DataFrame(tmp).T\n",
    "\n",
    "plt.rcParams.update({'font.size': 12})\n",
    "fig=plt.figure(figsize=(6,6))\n",
    "plt.title(\"randomized PRG2 spots within binary mask\")\n",
    "plt.scatter(tmp[0],tmp[1],color=\"white\", marker=\"x\")\n",
    "plt.imshow(mask[frame])\n",
    "plt.show()"
   ]
  },
  {
   "cell_type": "markdown",
   "metadata": {},
   "source": [
    "# calculate randomized NN"
   ]
  },
  {
   "cell_type": "markdown",
   "metadata": {},
   "source": [
    "#### run simulation once for all filopodia"
   ]
  },
  {
   "cell_type": "code",
   "execution_count": 12,
   "metadata": {},
   "outputs": [],
   "source": [
    "maskPath=r\"enter filepath\"#path to binary masks from the neurons "
   ]
  },
  {
   "cell_type": "code",
   "execution_count": 13,
   "metadata": {},
   "outputs": [],
   "source": [
    "def doOneSimulation(): \n",
    "\n",
    "    pixelsize=0.1377745# in µm\n",
    "    filopodiaNames=filopodialist[\"Name\"]\n",
    "\n",
    "    allNNs=[]\n",
    "\n",
    "    NNs=[]\n",
    "    # loop through filopodia and and to simulation\n",
    "    for i in range (0,len(filopodiaNames)):\n",
    "\n",
    "            \n",
    "        filop=filopodiaNames.values.tolist()[i]#name of filopodium\n",
    "        prg2locs=allInfo[allInfo[\"Filename\"]==filop]#list of prg2 spots from same movie, frame will be picked below\n",
    "        filopLocs=filopodialist.iloc[i]#localizations \n",
    "        acuteframe=filopLocs[\"Frame\"]#frame of filopodium occurance\n",
    "\n",
    "        #randomize the data\n",
    "        mask=tiff.imread(maskPath+\"mask_\"+filop)#read binary mask, black background\n",
    "        randomized=randomize(prg2locs,mask,acuteframe)#place PRG2 spots randomly in mask\n",
    "        randomized=pd.DataFrame(randomized).T#format the dataframe\n",
    "        randomized.columns=[\"X\",\"Y\"]#format the dataframe\n",
    "\n",
    "        subject=filopLocs[[\"X\",\"Y\"]]/pixelsize\n",
    "        reference=randomized\n",
    "\n",
    "        #calculate NN !!no \"+\" in filename!!\n",
    "        if (reference.shape[0]==0):\n",
    "            NN=np.NaN\n",
    "\n",
    "        else:\n",
    "            NN=np.min(distance_matrix(pd.DataFrame(subject).T,reference)[0],axis=0)#calculate NN fro distance matrix\n",
    "\n",
    "        NNs=NNs+[NN]\n",
    "    allNNs=allNNs+[NNs]\n",
    "    allNNs=pd.DataFrame(allNNs).T\n",
    "    allNNs.index=filopodiaNames\n",
    "        \n",
    "    return allNNs"
   ]
  },
  {
   "cell_type": "markdown",
   "metadata": {},
   "source": [
    "#### Run 1000x simulations"
   ]
  },
  {
   "cell_type": "code",
   "execution_count": 14,
   "metadata": {},
   "outputs": [],
   "source": [
    "pixelsize=0.1377745 #in µm\n",
    "filopodiaNames=filopodiaNames\n",
    "\n",
    "nSimulations=[]\n",
    "for repetitions in range(0,1000):\n",
    "    \n",
    "    \n",
    "    nSimulations=nSimulations+[doOneSimulation()[0].tolist()]\n",
    "\n",
    "saveMe=pd.DataFrame(nSimulations).T\n",
    "saveMe.index=filopodiaNames\n",
    "saveMe.to_csv(path+\"enter filename .csv\")"
   ]
  },
  {
   "cell_type": "markdown",
   "metadata": {},
   "source": [
    "#### read saved simulations"
   ]
  },
  {
   "cell_type": "code",
   "execution_count": 16,
   "metadata": {},
   "outputs": [],
   "source": [
    "allSimulations=pd.read_csv(path+\"enter filename .csv\")"
   ]
  },
  {
   "cell_type": "markdown",
   "metadata": {},
   "source": [
    "#### Function to calculate confidence intervals"
   ]
  },
  {
   "cell_type": "code",
   "execution_count": 17,
   "metadata": {},
   "outputs": [],
   "source": [
    "def confidence_interval(array, confidenceLevel):#pass numpy array\n",
    "    mean = np.mean(array)\n",
    "    sem= scipy.stats.sem(array)\n",
    "    upperCI = mean+sem * scipy.stats.t.ppf((1 + confidenceLevel) / 2., len(array)-1)\n",
    "    lowerCI=  mean-sem * scipy.stats.t.ppf((1 + confidenceLevel) / 2., len(array)-1)\n",
    "    return mean, upperCI, lowerCI"
   ]
  },
  {
   "cell_type": "markdown",
   "metadata": {},
   "source": [
    "#### calculate confidence intervals and plot results"
   ]
  },
  {
   "cell_type": "code",
   "execution_count": null,
   "metadata": {},
   "outputs": [],
   "source": [
    "binMin=0 # lowest bin\n",
    "binMax=3000 # highest bin\n",
    "nBins=20 # number of bins\n",
    "\n",
    "tmp=np.array(allSimulations.values[:,1:]*pixelsize*1000).astype(float)# store all simulations in tmp\n",
    "binnedSimulation=binData(pd.DataFrame(tmp),0,\"max\",binMin,binMax,nBins) # bin the simulation\n",
    "normalized=binnedSimulation/binnedSimulation.sum()/(binMax+-binMin)*nBins # normalize the binned simulation\n",
    "\n",
    "allCIs=[]\n",
    "for i in range(0,len(normalized.index)):\n",
    "    CI=confidence_interval(normalized.iloc[i], (1-(0.05/nBins)))# calculate confidence interval for each bin, do Bonferroni Corection\n",
    "    mean=CI[0]\n",
    "    upperCI=CI[1]\n",
    "    lowerCI=[3]\n",
    "    allCIs=allCIs+[CI]\n",
    "allCIs=pd.DataFrame(allCIs)   \n",
    "allCIs.columns=[\"mean\",\"upperCI\",\"lowerCI\"]\n",
    "allCIs.index=normalized.index\n",
    "\n",
    "# plot results\n",
    "plt.rcParams.update({'font.size': 26})\n",
    "fig=plt.figure(figsize=(9,7),dpi=300)\n",
    "plt.hist((realData[0]*pixelsize*1000),range=[0,3000],bins=nBins,normed=True,color=\"gray\", zorder=1)\n",
    "plt.plot(allCIs[\"mean\"],color=\"black\")\n",
    "plt.fill_between(allCIs.index, allCIs[\"upperCI\"], allCIs[\"lowerCI\"],color=\"red\", zorder=2,alpha=0.5)\n",
    "#plt.title(\"NN distance: subject = Filopodia / refference = PRG2 spots, Bonferroni Corrected\" )\n",
    "plt.xlabel(\"NN Distance [nm]\")\n",
    "plt.ylabel(\"Normalized Counts [a.u.]\")\n",
    "plt.legend([\"Data\",\"spatial randomness\"],bbox_to_anchor=(0.61, 1.4), prop={'size': 26})\n",
    "plt.show\n",
    "fig.savefig(path+\"enter filename .png\")\n"
   ]
  },
  {
   "cell_type": "markdown",
   "metadata": {},
   "source": [
    "#### Calculate  relative Increase over random"
   ]
  },
  {
   "cell_type": "code",
   "execution_count": null,
   "metadata": {},
   "outputs": [],
   "source": [
    "binMin=0\n",
    "binMax=3\n",
    "nBins=20\n",
    "\n",
    "tmp=np.array(allSimulations.values[:,1:]*pixelsize).astype(float)# store all simulations in tmp\n",
    "binnedSimulation=binData(pd.DataFrame(tmp),0,\"max\",binMin,binMax,nBins)# bin the simulation\n",
    "binnedRealData=binData(pd.DataFrame(realData*pixelsize).astype(float),0,\"max\",binMin,binMax,nBins) #bin original  measurements\n",
    "normalizedSim=binnedSimulation/binnedSimulation.sum()/(binMax+-binMin)*nBins #normalize binned simulation\n",
    "normalizedReal=binnedRealData/binnedRealData.sum()/(binMax+-binMin)*nBins # normalize binned original measurements\n",
    "\n",
    "allCIs=[]\n",
    "for i in range(0,len(normalizedSim.index)):\n",
    "    CI=confidence_interval(normalizedSim.iloc[i], (1-(0.05/nBins)))# calculate confidence interval for each bin, do Bonferroni Corection\n",
    "    mean=CI[0]\n",
    "    upperCI=CI[1]\n",
    "    lowerCI=[3]\n",
    "    allCIs=allCIs+[CI]\n",
    "allCIs=pd.DataFrame(allCIs)   \n",
    "allCIs.columns=[\"mean\",\"upperCI\",\"lowerCI\"]\n",
    "allCIs.index=normalizedSim.index\n",
    "\n",
    "# calculate delta increase\n",
    "delta=normalizedReal.values[:,0]-allCIs[[\"mean\"]].values[:,0]\n",
    "deltaUpCI=allCIs[[\"lowerCI\"]].values[:,0]-allCIs[[\"mean\"]].values[:,0]\n",
    "deltaLowCI=allCIs[[\"upperCI\"]].values[:,0]-allCIs[[\"mean\"]].values[:,0]\n",
    "\n",
    "#calculate relative increase\n",
    "increasePercent=np.divide(delta,allCIs[[\"mean\"]].values[:,0])\n",
    "increasePercent=increasePercent*100\n",
    "increasePercentUpCI=np.divide(deltaUpCI,allCIs[[\"mean\"]].values[:,0])\n",
    "increasePercentUpCI*100\n",
    "increasePercentLowCI=np.divide(deltaLowCI,allCIs[[\"mean\"]].values[:,0])\n",
    "increasePercentLowCI*100\n",
    "increasePercent=pd.DataFrame([increasePercent.tolist(),increasePercentUpCI.tolist(),increasePercentLowCI.tolist()]).T\n",
    "increasePercent.columns=allCIs.columns\n",
    "increasePercent.index=normalizedReal.index\n",
    "\n",
    "\n",
    "#save relative increase\n",
    "increasePercent.to_csv(r\"enter file path .csv\")\n",
    "\n",
    "\n",
    "increasePercent=increasePercent.set_index(\"0\")\n",
    "#little trick, to fill also the first bar: all x-axes were reindexed (value[i]-first value and plot position was set to \"post\")\n",
    "\n",
    "# plot results\n",
    "plt.rcParams.update({'font.size': 26})\n",
    "fig=plt.figure(figsize=(9,7),dpi=300)\n",
    "plt.step(increasePercent[\"mean\"].index.values-increasePercent[\"mean\"].index.values[0], increasePercent[\"mean\"].values, where=\"post\",  zorder=3, color=\"black\")\n",
    "plt.fill_between(increasePercent[\"mean\"].index.values-increasePercent[\"mean\"].index.values[0], increasePercent[\"upperCI\"], increasePercent[\"lowerCI\"],color=\"red\", zorder=2,alpha=0.9,step=\"post\",label=\"Simulated spatial randomness\")\n",
    "plt.fill_between(increasePercent[\"mean\"].index.values-increasePercent[\"mean\"].index.values[0],increasePercent[\"mean\"].values,([0]*len(increasePercent[\"mean\"])) ,color=\"gray\",alpha=1,step=\"post\", zorder=1, label=\"Measured data\")\n",
    "plt.xlim(0,2.7)\n",
    "plt.ylim(-220,220)\n",
    "plt.xlabel(\"NN distance [µm]\",labelpad=15)\n",
    "plt.ylabel(\"Change over random [%]\",labelpad=15)\n",
    "plt.legend(bbox_to_anchor=(0.61, 1.4), prop={'size': 26})\n",
    "plt.show()\n",
    "\n",
    "#save results\n",
    "fig.savefig(path+\"\\\\ enter filename .png\",bbox_inches = 'tight')\n",
    "fig.savefig(path+\"\\\\ enter filename  .eps\", format='eps',bbox_inches = 'tight')"
   ]
  }
 ],
 "metadata": {
  "kernelspec": {
   "display_name": "Python 3",
   "language": "python",
   "name": "python3"
  },
  "language_info": {
   "codemirror_mode": {
    "name": "ipython",
    "version": 3
   },
   "file_extension": ".py",
   "mimetype": "text/x-python",
   "name": "python",
   "nbconvert_exporter": "python",
   "pygments_lexer": "ipython3",
   "version": "3.5.6"
  }
 },
 "nbformat": 4,
 "nbformat_minor": 2
}
